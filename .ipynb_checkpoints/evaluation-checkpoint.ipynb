{
 "cells": [
  {
   "cell_type": "code",
   "execution_count": 4,
   "id": "2e571e3c-3538-464e-bc61-8f58f3197068",
   "metadata": {},
   "outputs": [],
   "source": [
    "import pandas as pd\n",
    "import requests"
   ]
  },
  {
   "cell_type": "code",
   "execution_count": 2,
   "id": "e47f54af-9726-472f-a097-864d4e296d57",
   "metadata": {},
   "outputs": [],
   "source": [
    "def get_relevent_lists(dataset: str):\n",
    "    df = pd.read_csv(f'./search/datasets/{dataset}/{dataset}_qrels.csv')\n",
    "    queries = df['query_id'].tolist()\n",
    "    docs = df['doc_id'].tolist()\n",
    "    relevance = df['relevance'].tolist()\n",
    "    relevent_lists = {}\n",
    "    for i in range(0, len(relevance)):\n",
    "        if relevance[i] != 0:\n",
    "            if queries[i] not in relevent_lists:\n",
    "                relevent_lists[queries[i]] = []\n",
    "            relevent_lists[queries[i]].append(docs[i])\n",
    "    return relevent_lists"
   ]
  },
  {
   "cell_type": "code",
   "execution_count": 6,
   "id": "4a028618-ffff-4677-9ecb-2a9920d64566",
   "metadata": {},
   "outputs": [
    {
     "name": "stderr",
     "output_type": "stream",
     "text": [
      "IOPub data rate exceeded.\n",
      "The Jupyter server will temporarily stop sending output\n",
      "to the client in order to avoid crashing it.\n",
      "To change this limit, set the config variable\n",
      "`--ServerApp.iopub_data_rate_limit`.\n",
      "\n",
      "Current values:\n",
      "ServerApp.iopub_data_rate_limit=1000000.0 (bytes/sec)\n",
      "ServerApp.rate_limit_window=3.0 (secs)\n",
      "\n"
     ]
    }
   ],
   "source": [
    "    dataset = \"sara\"\n",
    "    df = pd.read_csv(f'./search/datasets/{dataset}/{dataset}_queries.csv')\n",
    "    query_id = df['query_id'].tolist()\n",
    "    text = df['text'].tolist()\n",
    "    retrieved_lists = {}\n",
    "    for i in range(0, len(query_id)):\n",
    "        response = requests.get(f\"http://127.0.0.1:8000/search/{dataset}\", params={\"query\": text[i]})\n",
    "        results = response.json()\n",
    "        retrieved_lists[query_id[i]] = results[\"retrieved\"]\n",
    "    print(retrieved_lists)"
   ]
  },
  {
   "cell_type": "code",
   "execution_count": null,
   "id": "c2e1be6e-1bb4-483a-9029-2a55cc096deb",
   "metadata": {},
   "outputs": [],
   "source": []
  }
 ],
 "metadata": {
  "kernelspec": {
   "display_name": "Python 3 (ipykernel)",
   "language": "python",
   "name": "python3"
  },
  "language_info": {
   "codemirror_mode": {
    "name": "ipython",
    "version": 3
   },
   "file_extension": ".py",
   "mimetype": "text/x-python",
   "name": "python",
   "nbconvert_exporter": "python",
   "pygments_lexer": "ipython3",
   "version": "3.10.2"
  }
 },
 "nbformat": 4,
 "nbformat_minor": 5
}
