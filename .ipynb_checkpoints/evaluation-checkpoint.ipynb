{
 "cells": [
  {
   "cell_type": "code",
   "execution_count": 1,
   "id": "2e571e3c-3538-464e-bc61-8f58f3197068",
   "metadata": {},
   "outputs": [],
   "source": [
    "import pandas as pd\n",
    "import requests\n",
    "from storge.storge import load_df"
   ]
  },
  {
   "cell_type": "code",
   "execution_count": 2,
   "id": "e47f54af-9726-472f-a097-864d4e296d57",
   "metadata": {},
   "outputs": [],
   "source": [
    "def get_relevent_lists(dataset: str, irr: int):\n",
    "    df = load_df(dataset,'qrels')\n",
    "    queries = df['query_id'].tolist()\n",
    "    docs = df['doc_id'].tolist()\n",
    "    relevance = df['relevance'].tolist()\n",
    "    relevent_lists = {}\n",
    "    for i in range(0, len(relevance)):\n",
    "        if relevance[i] != irr:\n",
    "            if queries[i] not in relevent_lists:\n",
    "                relevent_lists[queries[i]] = []\n",
    "            relevent_lists[queries[i]].append(docs[i])\n",
    "    return relevent_lists"
   ]
  },
  {
   "cell_type": "code",
   "execution_count": 3,
   "id": "4a028618-ffff-4677-9ecb-2a9920d64566",
   "metadata": {},
   "outputs": [],
   "source": [
    "def get_retrieved_lists(dataset: str):\n",
    "    df = load_df(dataset,'queries')\n",
    "    query_id = df['query_id'].tolist()\n",
    "    text = df['text'].tolist()\n",
    "    retrieved_lists = {}\n",
    "    for i in range(0, len(query_id)):\n",
    "        response = requests.get(f\"http://127.0.0.1:8000/search/{dataset}\", params={\"query\": text[i]})\n",
    "        results = response.json()\n",
    "        retrieved_lists[query_id[i]] = results[\"ID\"]\n",
    "    return retrieved_lists"
   ]
  },
  {
   "cell_type": "code",
   "execution_count": 4,
   "id": "eab3e408",
   "metadata": {},
   "outputs": [],
   "source": [
    "def precision_at_10(retrieved_list, relevant_list):\n",
    "    top_10_retrieved = retrieved_list[:10]\n",
    "    num_relevant = sum([1 for doc in top_10_retrieved if doc in relevant_list])\n",
    "    p_at_10 = num_relevant / 10.0\n",
    "    return p_at_10"
   ]
  },
  {
   "cell_type": "code",
   "execution_count": 5,
   "id": "60a96d79",
   "metadata": {},
   "outputs": [],
   "source": [
    "def recall_at_10(retrieved_list, relevant_list):\n",
    "    top_10_retrieved = retrieved_list[:10]\n",
    "    num_relevant_in_top_10 = sum([1 for doc in top_10_retrieved if doc in relevant_list])\n",
    "    r_at_10 = num_relevant_in_top_10 / len(relevant_list) if relevant_list else 0\n",
    "    return r_at_10\n",
    " "
   ]
  },
  {
   "cell_type": "code",
   "execution_count": 6,
   "id": "c2e1be6e-1bb4-483a-9029-2a55cc096deb",
   "metadata": {},
   "outputs": [],
   "source": [
    "def calculate_map_at_k(retrieved_lists, relevant_lists, k=10):\n",
    "    ap_at_k = []\n",
    "    for query, retrieved_list in retrieved_lists.items():\n",
    "        if query in relevant_lists:\n",
    "            relevant_list = set(relevant_lists[query])\n",
    "            ap = 0\n",
    "            correct = 0\n",
    "            \n",
    "            num_elements_to_consider = min(k, len(retrieved_list))\n",
    "            \n",
    "            for i, doc in enumerate(retrieved_list[:num_elements_to_consider]):\n",
    "                if doc in relevant_list:\n",
    "                    correct += 1\n",
    "                    ap += correct / (i + 1)\n",
    "                    \n",
    "            if correct > 0:\n",
    "                ap /= min(len(relevant_list), num_elements_to_consider)\n",
    "                ap_at_k.append(ap)\n",
    "                \n",
    "    return sum(ap_at_k) / len(ap_at_k) if ap_at_k else 0\n"
   ]
  },
  {
   "cell_type": "code",
   "execution_count": 7,
   "id": "69a24653-2b0d-4564-ab23-a66460e2f319",
   "metadata": {},
   "outputs": [],
   "source": [
    "def calculate_mrr_at_k(retrieved_lists, relevant_lists, k=10):\n",
    "    rr_at_k = []\n",
    "    for query, retrieved_list in retrieved_lists.items():\n",
    "        if query in relevant_lists:\n",
    "            relevant_list = set(relevant_lists[query])\n",
    "\n",
    "            num_elements_to_consider = min(k, len(retrieved_list))\n",
    "            \n",
    "            for i, doc in enumerate(retrieved_list[:num_elements_to_consider]):\n",
    "                if doc in relevant_list:\n",
    "                    rr_at_k.append(1 / (i + 1))\n",
    "                    break\n",
    "            else:\n",
    "\n",
    "                rr_at_k.append(0)\n",
    "                \n",
    "\n",
    "    return sum(rr_at_k) / len(rr_at_k) if rr_at_k else 0\n"
   ]
  },
  {
   "cell_type": "code",
   "execution_count": 8,
   "id": "a9d0715c",
   "metadata": {},
   "outputs": [],
   "source": [
    "def evaluation(dataset: str, irr: int):\n",
    "    df = load_df(dataset,'queries')\n",
    "    query_id = df['query_id'].tolist()\n",
    "\n",
    "\n",
    "    relevent_lists = get_relevent_lists(dataset, irr)\n",
    "    retrieved_lists = get_retrieved_lists(dataset)\n",
    "\n",
    "\n",
    "    print(f\"MAP for {dataset}:\")\n",
    "    print(calculate_map_at_k(retrieved_lists,relevent_lists,10))\n",
    "\n",
    "    print(f\"MRR for {dataset}:\")\n",
    "    print(calculate_mrr_at_k(retrieved_lists,relevent_lists,10))\n",
    "\n",
    "\n",
    "    print(f\"precision for the first five queries:\")\n",
    "    for id in query_id[0:5]:\n",
    "        print(precision_at_10(retrieved_lists[id], relevent_lists[id]))\n",
    "    \n",
    "    sum = 0\n",
    "    for id in query_id:\n",
    "        sum += precision_at_10(retrieved_lists[id], relevent_lists[id])\n",
    "    sum /= len(query_id)\n",
    "\n",
    "    print(f\"the avrage of precision of all queries:\")\n",
    "    print(sum)\n",
    "\n",
    "\n",
    "\n",
    "    print(f\"recall for the first five queries:\")\n",
    "    for id in query_id[0:5]:\n",
    "        print(recall_at_10(retrieved_lists[id], relevent_lists[id]))\n",
    "\n",
    "    sum = 0\n",
    "    for id in query_id:\n",
    "        sum += recall_at_10(retrieved_lists[id], relevent_lists[id])\n",
    "    sum /= len(query_id)\n",
    "\n",
    "    print(f\"the avrage of recall of all queries:\")\n",
    "    print(sum)\n",
    "    "
   ]
  },
  {
   "cell_type": "code",
   "execution_count": 9,
   "id": "b57fa4b1-c974-4528-9070-9ba941170946",
   "metadata": {},
   "outputs": [
    {
     "name": "stdout",
     "output_type": "stream",
     "text": [
      "MAP for wikiren1ktraining:\n",
      "0.18207468705704702\n",
      "MRR for wikiren1ktraining:\n",
      "0.5826276216857943\n",
      "precision for the first five queries:\n",
      "0.6\n",
      "0.1\n",
      "0.1\n",
      "0.1\n",
      "0.1\n",
      "the avrage of precision of all queries:\n",
      "0.1863573407202201\n",
      "recall for the first five queries:\n",
      "1.0\n",
      "0.16666666666666666\n",
      "0.16666666666666666\n",
      "0.1111111111111111\n",
      "0.07142857142857142\n",
      "the avrage of recall of all queries:\n",
      "0.17074972751884332\n"
     ]
    }
   ],
   "source": [
    "evaluation(\"wikiren1ktraining\", 0)"
   ]
  },
  {
   "cell_type": "code",
   "execution_count": 10,
   "id": "f9887e39-ee7b-451b-8d3c-6489091c4686",
   "metadata": {},
   "outputs": [
    {
     "name": "stdout",
     "output_type": "stream",
     "text": [
      "MAP for antiquetrain:\n",
      "0.17007984556232536\n",
      "MRR for antiquetrain:\n",
      "0.27233165181433955\n",
      "precision for the first five queries:\n",
      "0.0\n",
      "0.8\n",
      "0.0\n",
      "0.1\n",
      "0.0\n",
      "the avrage of precision of all queries:\n",
      "0.08858202802967746\n",
      "recall for the first five queries:\n",
      "0.0\n",
      "0.08695652173913043\n",
      "0.0\n",
      "0.2\n",
      "0.0\n",
      "the avrage of recall of all queries:\n",
      "0.10733875141449607\n"
     ]
    }
   ],
   "source": [
    "evaluation(\"antiquetrain\", 1)"
   ]
  },
  {
   "cell_type": "code",
   "execution_count": null,
   "id": "93f8a990",
   "metadata": {},
   "outputs": [],
   "source": []
  }
 ],
 "metadata": {
  "kernelspec": {
   "display_name": "Python 3 (ipykernel)",
   "language": "python",
   "name": "python3"
  },
  "language_info": {
   "codemirror_mode": {
    "name": "ipython",
    "version": 3
   },
   "file_extension": ".py",
   "mimetype": "text/x-python",
   "name": "python",
   "nbconvert_exporter": "python",
   "pygments_lexer": "ipython3",
   "version": "3.10.2"
  }
 },
 "nbformat": 4,
 "nbformat_minor": 5
}
