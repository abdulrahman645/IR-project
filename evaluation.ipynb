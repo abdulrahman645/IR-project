{
 "cells": [
  {
   "cell_type": "code",
   "execution_count": 16,
   "id": "2e571e3c-3538-464e-bc61-8f58f3197068",
   "metadata": {},
   "outputs": [],
   "source": [
    "import pandas as pd\n",
    "import requests"
   ]
  },
  {
   "cell_type": "code",
   "execution_count": 17,
   "id": "e47f54af-9726-472f-a097-864d4e296d57",
   "metadata": {},
   "outputs": [],
   "source": [
    "def get_relevent_lists(dataset: str):\n",
    "    df = pd.read_csv(f'./search/datasets/{dataset}/{dataset}_qrels.csv')\n",
    "    queries = df['query_id'].tolist()\n",
    "    docs = df['doc_id'].tolist()\n",
    "    relevance = df['relevance'].tolist()\n",
    "    relevent_lists = {}\n",
    "    for i in range(0, len(relevance)):\n",
    "        if relevance[i] != 0:\n",
    "            if queries[i] not in relevent_lists:\n",
    "                relevent_lists[queries[i]] = []\n",
    "            relevent_lists[queries[i]].append(docs[i])\n",
    "    return relevent_lists"
   ]
  },
  {
   "cell_type": "code",
   "execution_count": 18,
   "id": "4a028618-ffff-4677-9ecb-2a9920d64566",
   "metadata": {},
   "outputs": [],
   "source": [
    "def get_retrieved_lists(dataset: str):\n",
    "    df = pd.read_csv(f'./search/datasets/{dataset}/{dataset}_queries.csv')\n",
    "    query_id = df['query_id'].tolist()\n",
    "    text = df['text'].tolist()\n",
    "    retrieved_lists = {}\n",
    "    for i in range(0, len(query_id)):\n",
    "        response = requests.get(f\"http://127.0.0.1:8000/search/{dataset}\", params={\"query\": text[i]})\n",
    "        results = response.json()\n",
    "        retrieved_lists[query_id[i]] = results[\"ID\"]\n",
    "    return retrieved_lists"
   ]
  },
  {
   "cell_type": "code",
   "execution_count": 19,
   "id": "eab3e408",
   "metadata": {},
   "outputs": [],
   "source": [
    "def precision_at_10(retrieved_list, relevant_list):\n",
    "    top_10_retrieved = retrieved_list[:10]\n",
    "    num_relevant = sum([1 for doc in top_10_retrieved if doc in relevant_list])\n",
    "    p_at_10 = num_relevant / 10.0\n",
    "    return p_at_10"
   ]
  },
  {
   "cell_type": "code",
   "execution_count": 20,
   "id": "60a96d79",
   "metadata": {},
   "outputs": [],
   "source": [
    "def recall_at_10(retrieved_list, relevant_list):\n",
    "    top_10_retrieved = retrieved_list[:10]\n",
    "    num_relevant_in_top_10 = sum([1 for doc in top_10_retrieved if doc in relevant_list])\n",
    "    r_at_10 = num_relevant_in_top_10 / len(relevant_list) if relevant_list else 0\n",
    "    return r_at_10\n",
    " "
   ]
  },
  {
   "cell_type": "code",
   "execution_count": 21,
   "id": "c2e1be6e-1bb4-483a-9029-2a55cc096deb",
   "metadata": {},
   "outputs": [],
   "source": [
    "def calculate_map_at_k(retrieved_lists, relevant_lists, k=10):\n",
    "    ap_at_k = []\n",
    "    for query, retrieved_list in retrieved_lists.items():\n",
    "        if query in relevant_lists:\n",
    "            relevant_list = set(relevant_lists[query])\n",
    "            ap = 0\n",
    "            correct = 0\n",
    "            for i, doc in enumerate(retrieved_list[:k]):\n",
    "                if doc in relevant_list:\n",
    "                    correct += 1\n",
    "                    ap += correct / (i + 1)\n",
    "            if correct > 0:\n",
    "                ap /= min(len(relevant_list), k)\n",
    "                ap_at_k.append(ap)\n",
    "    return sum(ap_at_k) / len(ap_at_k) if ap_at_k else 0"
   ]
  },
  {
   "cell_type": "code",
   "execution_count": 22,
   "id": "69a24653-2b0d-4564-ab23-a66460e2f319",
   "metadata": {},
   "outputs": [],
   "source": [
    "def calculate_mrr_at_k(retrieved_lists, relevant_lists, k=10):\n",
    "    rr_at_k = []\n",
    "    for query, retrieved_list in retrieved_lists.items():\n",
    "        if query in relevant_lists:\n",
    "            relevant_list = set(relevant_lists[query])\n",
    "            for i, doc in enumerate(retrieved_list[:k]):\n",
    "                if doc in relevant_list:\n",
    "                    rr_at_k.append(1 / (i + 1))\n",
    "                    break\n",
    "    return sum(rr_at_k) / len(rr_at_k) if rr_at_k else 0\n"
   ]
  },
  {
   "cell_type": "code",
   "execution_count": 35,
   "id": "a9d0715c",
   "metadata": {},
   "outputs": [],
   "source": [
    "def evaluation(dataset: str):\n",
    "    df = pd.read_csv(f'./search/datasets/{dataset}/{dataset}_queries.csv')\n",
    "    query_id = df['query_id'].tolist()\n",
    "\n",
    "\n",
    "    relevent_lists = get_relevent_lists(dataset)\n",
    "    retrieved_lists = get_retrieved_lists(dataset)\n",
    "\n",
    "\n",
    "    print(f\"MAP for {dataset}:\")\n",
    "    print(calculate_map_at_k(retrieved_lists,relevent_lists,10))\n",
    "\n",
    "    print(f\"MRR for {dataset}:\")\n",
    "    print(calculate_mrr_at_k(retrieved_lists,relevent_lists,10))\n",
    "\n",
    "\n",
    "    print(f\"precision for the first five documents:\")\n",
    "    for id in query_id[0:5]:\n",
    "        print(precision_at_10(retrieved_lists[id], relevent_lists[id]))\n",
    "\n",
    "\n",
    "    print(f\"recall for the first five documents:\")\n",
    "    for id in query_id[0:5]:\n",
    "        print(recall_at_10(retrieved_lists[id], relevent_lists[id]))\n",
    "    "
   ]
  },
  {
   "cell_type": "code",
   "execution_count": 36,
   "id": "7f5c7bad-801a-48a3-bf6a-972336138d10",
   "metadata": {},
   "outputs": [
    {
     "name": "stdout",
     "output_type": "stream",
     "text": [
      "MAP for sara:\n",
      "0.19198930430347397\n",
      "MRR for sara:\n",
      "0.6481223383662411\n",
      "precision for the first five documents:\n",
      "0.2\n",
      "0.1\n",
      "0.1\n",
      "0.3\n",
      "0.3\n",
      "recall for the first five documents:\n",
      "0.11764705882352941\n",
      "0.058823529411764705\n",
      "0.058823529411764705\n",
      "0.2727272727272727\n",
      "0.2727272727272727\n"
     ]
    }
   ],
   "source": [
    "evaluation(\"sara\")"
   ]
  },
  {
   "cell_type": "code",
   "execution_count": 37,
   "id": "b57fa4b1-c974-4528-9070-9ba941170946",
   "metadata": {},
   "outputs": [
    {
     "name": "stdout",
     "output_type": "stream",
     "text": [
      "MAP for wikiren1ktraining:\n",
      "0.18207468705704702\n",
      "MRR for wikiren1ktraining:\n",
      "0.7154033041788154\n",
      "precision for the first five documents:\n",
      "0.6\n",
      "0.1\n",
      "0.1\n",
      "0.1\n",
      "0.1\n",
      "recall for the first five documents:\n",
      "1.0\n",
      "0.16666666666666666\n",
      "0.16666666666666666\n",
      "0.1111111111111111\n",
      "0.07142857142857142\n"
     ]
    }
   ],
   "source": [
    "evaluation(\"wikiren1ktraining\")"
   ]
  },
  {
   "cell_type": "code",
   "execution_count": null,
   "id": "f9887e39-ee7b-451b-8d3c-6489091c4686",
   "metadata": {},
   "outputs": [],
   "source": [
    "evaluation(\"antiquetrain\")"
   ]
  },
  {
   "cell_type": "code",
   "execution_count": null,
   "id": "93f8a990",
   "metadata": {},
   "outputs": [],
   "source": []
  }
 ],
 "metadata": {
  "kernelspec": {
   "display_name": "Python 3 (ipykernel)",
   "language": "python",
   "name": "python3"
  },
  "language_info": {
   "codemirror_mode": {
    "name": "ipython",
    "version": 3
   },
   "file_extension": ".py",
   "mimetype": "text/x-python",
   "name": "python",
   "nbconvert_exporter": "python",
   "pygments_lexer": "ipython3",
   "version": "3.10.2"
  }
 },
 "nbformat": 4,
 "nbformat_minor": 5
}
